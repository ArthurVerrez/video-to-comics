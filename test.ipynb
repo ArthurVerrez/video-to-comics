{
 "cells": [
  {
   "cell_type": "code",
   "execution_count": 1,
   "metadata": {},
   "outputs": [],
   "source": [
    "from video_utils import get_full_video_description_with_dialogues\n"
   ]
  },
  {
   "cell_type": "code",
   "execution_count": 2,
   "metadata": {},
   "outputs": [],
   "source": [
    "VIDEO_PATH = \"./video/test_video.mp4\"  # Replace with your video path\n",
    "\n",
    "output=None"
   ]
  },
  {
   "cell_type": "code",
   "execution_count": 3,
   "metadata": {},
   "outputs": [
    {
     "name": "stdout",
     "output_type": "stream",
     "text": [
      "Total tokens in messages: 379\n"
     ]
    }
   ],
   "source": [
    "with open(VIDEO_PATH, \"rb\") as video_file:\n",
    "    output=get_full_video_description_with_dialogues(video_file)"
   ]
  },
  {
   "cell_type": "code",
   "execution_count": 5,
   "metadata": {},
   "outputs": [
    {
     "name": "stdout",
     "output_type": "stream",
     "text": [
      "The video begins in darkness, with a voice questioning, \"what's the matter oh you were finished oh well allow me to return.\" As the scene lights up, a man appears, looking intense and focused, suggesting a tense situation.\n",
      "\n",
      "At 10 seconds, a close-up reveals the man's serious expression. He demands to know if \"Marcellus Wallace looks like what\" and aggressively questions, \"what country you from,\" highlighting his frustration and dominance.\n",
      "\n",
      "At 20 seconds, the scene shows the man standing over another person seated in a chair, emphasizing a power imbalance. The standing man continues to interrogate the seated individual, asking if they \"speak English\" and insists on getting a clear answer.\n",
      "\n",
      "As the dialogue progresses, the standing man becomes increasingly threatening, using strong language and daring the other to say \"what\" again, indicating rising tension.\n",
      "\n",
      "At 40 seconds, the standing man pulls out a gun, intensifying the threat. He demands a description of \"Marcellus Wallace,\" pushing the scene into a more dangerous and suspenseful atmosphere.\n",
      "\n",
      "By 50 seconds, the seated person appears intimidated and is likely trying to comply with the demands under pressure, while the standing man questions their actions and motives aggressively.\n",
      "\n",
      "Overall, the scene depicts a confrontation where one character exerts control and intimidation over another, using forceful language and a weapon to assert authority and demand compliance.\n"
     ]
    }
   ],
   "source": [
    "print(output)"
   ]
  },
  {
   "cell_type": "code",
   "execution_count": 7,
   "metadata": {},
   "outputs": [],
   "source": [
    "from openai import OpenAI\n",
    "client = OpenAI()\n",
    "\n",
    "completion = client.chat.completions.create(\n",
    "    model=\"gpt-4o\",\n",
    "    messages=[\n",
    "        {\n",
    "            \"role\": \"user\",\n",
    "            \"content\": \"Make an image of a cute dog.\"\n",
    "        }\n",
    "    ]\n",
    ")"
   ]
  },
  {
   "cell_type": "code",
   "execution_count": 10,
   "metadata": {},
   "outputs": [
    {
     "name": "stdout",
     "output_type": "stream",
     "text": [
      "I can't create images directly, but I can give you a description of a cute dog that you can use as inspiration for creating or searching for an image.\n",
      "\n",
      "Imagine a small, fluffy golden retriever puppy with soft, wavy fur and big, soulful brown eyes. Its ears are slightly floppy, and it has a playful expression with its little pink tongue peeking out as it sits happily on a patch of green grass. The sunlight reflects off its coat, giving it a warm, glowing appearance. You can almost hear the gentle rustling of the leaves and feel the warmth of the sun in this serene scene.\n"
     ]
    }
   ],
   "source": [
    "print(completion.choices[0].message.content)\n"
   ]
  },
  {
   "cell_type": "code",
   "execution_count": null,
   "metadata": {},
   "outputs": [],
   "source": []
  }
 ],
 "metadata": {
  "kernelspec": {
   "display_name": "env",
   "language": "python",
   "name": "python3"
  },
  "language_info": {
   "codemirror_mode": {
    "name": "ipython",
    "version": 3
   },
   "file_extension": ".py",
   "mimetype": "text/x-python",
   "name": "python",
   "nbconvert_exporter": "python",
   "pygments_lexer": "ipython3",
   "version": "3.12.1"
  }
 },
 "nbformat": 4,
 "nbformat_minor": 2
}
